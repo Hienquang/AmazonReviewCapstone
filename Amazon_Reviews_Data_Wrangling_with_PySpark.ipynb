{
  "nbformat": 4,
  "nbformat_minor": 0,
  "metadata": {
    "colab": {
      "name": "Amazon Reviews - Data Wrangling with PySpark.ipynb",
      "provenance": [],
      "collapsed_sections": []
    },
    "kernelspec": {
      "name": "python3",
      "display_name": "Python 3"
    },
    "language_info": {
      "name": "python"
    }
  },
  "cells": [
    {
      "cell_type": "code",
      "metadata": {
        "id": "YDlmbxp4yghv",
        "colab": {
          "base_uri": "https://localhost:8080/"
        },
        "outputId": "b98596d7-4d8e-4e0f-e3aa-3f0bf757fd9f"
      },
      "source": [
        "#connect drive to Colab\n",
        "from google.colab import drive\n",
        "drive.mount('/content/drive')"
      ],
      "execution_count": 1,
      "outputs": [
        {
          "output_type": "stream",
          "name": "stdout",
          "text": [
            "Mounted at /content/drive\n"
          ]
        }
      ]
    },
    {
      "cell_type": "code",
      "metadata": {
        "id": "7vNNeWAUTn9D"
      },
      "source": [
        "#Download Java\n",
        "!apt-get install openjdk-8-jdk-headless -qq > /dev/null"
      ],
      "execution_count": 2,
      "outputs": []
    },
    {
      "cell_type": "code",
      "metadata": {
        "id": "l6bv1qrlTn_J"
      },
      "source": [
        "#Install Apache Spark with Hadoop\n",
        "#!wget -q https://dlcdn.apache.org/spark/spark-3.2.0/spark-3.2.0-bin-hadoop3.2.tgz -P drive/MyDrive/Colab_Notebooks/Amazon_reviews/Resources\n"
      ],
      "execution_count": 3,
      "outputs": []
    },
    {
      "cell_type": "code",
      "metadata": {
        "id": "-nSrxaboToDX"
      },
      "source": [
        "#unzip\n",
        "!tar xf drive/MyDrive/Colab_Notebooks/Amazon_reviews/Resources/spark-3.2.0-bin-hadoop3.2.tgz"
      ],
      "execution_count": 4,
      "outputs": []
    },
    {
      "cell_type": "code",
      "metadata": {
        "id": "4tjP626WkQ49"
      },
      "source": [
        "!pip install -q findspark"
      ],
      "execution_count": 5,
      "outputs": []
    },
    {
      "cell_type": "code",
      "metadata": {
        "id": "VONM-jwFdIfq"
      },
      "source": [
        "#set PySpark enviroment\n",
        "import os\n",
        "os.environ[\"JAVA_HOME\"] = \"/usr/lib/jvm/java-8-openjdk-amd64\" \n",
        "os.environ[\"SPARK_HOME\"] = \"/content/spark-3.2.0-bin-hadoop3.2\""
      ],
      "execution_count": 6,
      "outputs": []
    },
    {
      "cell_type": "code",
      "metadata": {
        "id": "y_1cTbDCkQ9I"
      },
      "source": [
        "#initate PySPark\n",
        "import findspark\n",
        "findspark.init()"
      ],
      "execution_count": 7,
      "outputs": []
    },
    {
      "cell_type": "code",
      "metadata": {
        "id": "8ZY28fLf19fw",
        "colab": {
          "base_uri": "https://localhost:8080/",
          "height": 216
        },
        "outputId": "785af23f-98eb-4347-b8b0-edfd8363536f"
      },
      "source": [
        "from pyspark.sql import SparkSession\n",
        "#create a Spark session\n",
        "spark = SparkSession.builder\\\n",
        "        .master(\"local\")\\\n",
        "        .appName(\"Colab\")\\\n",
        "        .config('spark.ui.port', '4050')\\\n",
        "        .getOrCreate()\n",
        "#print the SparkSession variable.\n",
        "spark   "
      ],
      "execution_count": 8,
      "outputs": [
        {
          "output_type": "execute_result",
          "data": {
            "text/html": [
              "\n",
              "            <div>\n",
              "                <p><b>SparkSession - in-memory</b></p>\n",
              "                \n",
              "        <div>\n",
              "            <p><b>SparkContext</b></p>\n",
              "\n",
              "            <p><a href=\"http://a11b6f6aa297:4050\">Spark UI</a></p>\n",
              "\n",
              "            <dl>\n",
              "              <dt>Version</dt>\n",
              "                <dd><code>v3.2.0</code></dd>\n",
              "              <dt>Master</dt>\n",
              "                <dd><code>local</code></dd>\n",
              "              <dt>AppName</dt>\n",
              "                <dd><code>Colab</code></dd>\n",
              "            </dl>\n",
              "        </div>\n",
              "        \n",
              "            </div>\n",
              "        "
            ],
            "text/plain": [
              "<pyspark.sql.session.SparkSession at 0x7f59b9c73c10>"
            ]
          },
          "metadata": {},
          "execution_count": 8
        }
      ]
    },
    {
      "cell_type": "code",
      "metadata": {
        "id": "L28uj-Xe6xfP"
      },
      "source": [
        "#import\n",
        "from pyspark.sql.functions import input_file_name\n",
        "from pyspark.sql.functions import lit\n",
        "from pyspark.sql.types import StructType, StructField, StringType, BooleanType, DateType, FloatType"
      ],
      "execution_count": 9,
      "outputs": []
    },
    {
      "cell_type": "code",
      "metadata": {
        "id": "pwOmOSHUgW7O",
        "colab": {
          "base_uri": "https://localhost:8080/"
        },
        "outputId": "e59241e0-dd2a-4ba4-8e52-59067e210efe"
      },
      "source": [
        "#test import a file\n",
        "path = 'drive/MyDrive/Colab_Notebooks/Amazon_reviews/data/AMAZON_FASHION_5.json.gz'\n",
        "df_test = spark.read.json(path)\n",
        "df_test.printSchema()"
      ],
      "execution_count": 10,
      "outputs": [
        {
          "output_type": "stream",
          "name": "stdout",
          "text": [
            "root\n",
            " |-- asin: string (nullable = true)\n",
            " |-- image: array (nullable = true)\n",
            " |    |-- element: string (containsNull = true)\n",
            " |-- overall: double (nullable = true)\n",
            " |-- reviewText: string (nullable = true)\n",
            " |-- reviewTime: string (nullable = true)\n",
            " |-- reviewerID: string (nullable = true)\n",
            " |-- reviewerName: string (nullable = true)\n",
            " |-- style: struct (nullable = true)\n",
            " |    |-- Color:: string (nullable = true)\n",
            " |    |-- Size Name:: string (nullable = true)\n",
            " |    |-- Size:: string (nullable = true)\n",
            " |    |-- Style:: string (nullable = true)\n",
            " |-- summary: string (nullable = true)\n",
            " |-- unixReviewTime: long (nullable = true)\n",
            " |-- verified: boolean (nullable = true)\n",
            " |-- vote: string (nullable = true)\n",
            "\n"
          ]
        }
      ]
    },
    {
      "cell_type": "code",
      "metadata": {
        "id": "zAdfOLb4eh5w",
        "colab": {
          "base_uri": "https://localhost:8080/"
        },
        "outputId": "bbf4121e-3935-4cd9-dd44-0c138183c9a6"
      },
      "source": [
        "df_test.show(5)"
      ],
      "execution_count": 11,
      "outputs": [
        {
          "output_type": "stream",
          "name": "stdout",
          "text": [
            "+----------+-----+-------+--------------------+----------+-------------+------------+--------------------+----------+--------------+--------+----+\n",
            "|      asin|image|overall|          reviewText|reviewTime|   reviewerID|reviewerName|               style|   summary|unixReviewTime|verified|vote|\n",
            "+----------+-----+-------+--------------------+----------+-------------+------------+--------------------+----------+--------------+--------+----+\n",
            "|B000K2PJ4K| null|    5.0|Great product and...|09 4, 2015|ALJ66O1Y6SLHA|    Tonya B.|{ Blue/Orange, nu...|Five Stars|    1441324800|    true|null|\n",
            "|B000K2PJ4K| null|    5.0|Great product and...|09 4, 2015|ALJ66O1Y6SLHA|    Tonya B.|{ Black (37467610...|Five Stars|    1441324800|    true|null|\n",
            "|B000K2PJ4K| null|    5.0|Great product and...|09 4, 2015|ALJ66O1Y6SLHA|    Tonya B.|{ Blue/Gray Logo,...|Five Stars|    1441324800|    true|null|\n",
            "|B000K2PJ4K| null|    5.0|Great product and...|09 4, 2015|ALJ66O1Y6SLHA|    Tonya B.|{ Blue (37867638-...|Five Stars|    1441324800|    true|null|\n",
            "|B000K2PJ4K| null|    5.0|Great product and...|09 4, 2015|ALJ66O1Y6SLHA|    Tonya B.|{ Blue/Pink, null...|Five Stars|    1441324800|    true|null|\n",
            "+----------+-----+-------+--------------------+----------+-------------+------------+--------------------+----------+--------------+--------+----+\n",
            "only showing top 5 rows\n",
            "\n"
          ]
        }
      ]
    },
    {
      "cell_type": "code",
      "metadata": {
        "id": "g9eOIh30eh9k",
        "colab": {
          "base_uri": "https://localhost:8080/"
        },
        "outputId": "2276b39f-4e2b-4681-8179-daeae7398b3c"
      },
      "source": [
        "df_test.describe().show()"
      ],
      "execution_count": 12,
      "outputs": [
        {
          "output_type": "stream",
          "name": "stdout",
          "text": [
            "+-------+----------+-----------------+--------------------+----------+--------------+--------------------+--------------------+--------------------+-----------------+\n",
            "|summary|      asin|          overall|          reviewText|reviewTime|    reviewerID|        reviewerName|             summary|      unixReviewTime|             vote|\n",
            "+-------+----------+-----------------+--------------------+----------+--------------+--------------------+--------------------+--------------------+-----------------+\n",
            "|  count|      3176|             3176|                3160|      3176|          3176|                3176|                3176|                3176|              297|\n",
            "|   mean|      null|4.404282115869018|                null|      null|          null|                null|                null|  1.49221080906801E9|5.858585858585859|\n",
            "| stddev|      null|1.034963845574042|                null|      null|          null|                null|                null|2.3967880580666605E7|6.317623517776833|\n",
            "|    min|B000K2PJ4K|              1.0|A little more cus...|01 1, 2017|A10RXRZE0TAKPU|AA - Amazon Addic...|               Shoes|          1261699200|               10|\n",
            "|    max|B01H7KY678|              5.0|                 yes|12 8, 2016| AZYHPRWLMSY9O|        wayne ereira|you feel like you...|          1530748800|                8|\n",
            "+-------+----------+-----------------+--------------------+----------+--------------+--------------------+--------------------+--------------------+-----------------+\n",
            "\n"
          ]
        }
      ]
    },
    {
      "cell_type": "code",
      "metadata": {
        "id": "0YDJl27Ieh_q"
      },
      "source": [
        "#get a list of all file names\n",
        "file_name = os.listdir('drive/MyDrive/Colab_Notebooks/Amazon_reviews/data/')\n",
        "\n",
        "#define schema\n",
        "schema = StructType([\n",
        "            StructField('overall',FloatType(),True),\n",
        "            StructField('reviewText',StringType(),True),\n",
        "            StructField('reviewerName',StringType(),True),\n",
        "            StructField('summary',StringType(),True),\n",
        "            StructField('verified',BooleanType(),True),\n",
        "            StructField('vote',StringType(),True),\n",
        "            StructField('categories',StringType(),False)])"
      ],
      "execution_count": 13,
      "outputs": []
    },
    {
      "cell_type": "code",
      "metadata": {
        "id": "erzYteOXjraw"
      },
      "source": [
        "#load all data\n",
        "df = spark.createDataFrame([], schema)\n",
        "df = df.withColumn('categories',lit(0))\n",
        "for name in file_name:\n",
        "  path = 'drive/MyDrive/Colab_Notebooks/Amazon_reviews/data/' + name\n",
        "  #print('start: ', name[:-10])\n",
        "  df_temp = spark.read.json(path, schema)\n",
        "  df_temp = df_temp.withColumn('categories',lit(name[:-10]))\n",
        "  df = df.union(df_temp)\n",
        "  #print('done: ', name[:-10])\n",
        "df = df.withColumn(\"vote\",df.vote.cast('float'))"
      ],
      "execution_count": 14,
      "outputs": []
    },
    {
      "cell_type": "code",
      "metadata": {
        "id": "fVhyyUuGG5d7",
        "colab": {
          "base_uri": "https://localhost:8080/"
        },
        "outputId": "d9159b23-1a1b-45a6-d80d-35758fbef36b"
      },
      "source": [
        "df.show(5)"
      ],
      "execution_count": 15,
      "outputs": [
        {
          "output_type": "stream",
          "name": "stdout",
          "text": [
            "+-------+--------------------+------------+--------------------+--------+----+----------+\n",
            "|overall|          reviewText|reviewerName|             summary|verified|vote|categories|\n",
            "+-------+--------------------+------------+--------------------+--------+----+----------+\n",
            "|    4.0|I've been using D...|   WB Halper|A solid overview ...|   false|null|  Software|\n",
            "|    4.0|The demo is done ...|      Grimmy|        A good value|   false|null|  Software|\n",
            "|    5.0|If you've been wa...|   D. Fowler|This is excellent...|   false| 3.0|  Software|\n",
            "|    5.0|I've been creatin...|Bryan Newman|A Fantastic Overv...|   false|null|  Software|\n",
            "|    5.0|I decided (after ...|  Al Swanson|Excellent Tutorials!|   false|null|  Software|\n",
            "+-------+--------------------+------------+--------------------+--------+----+----------+\n",
            "only showing top 5 rows\n",
            "\n"
          ]
        }
      ]
    },
    {
      "cell_type": "code",
      "metadata": {
        "id": "OdoAcojA4-VD",
        "colab": {
          "base_uri": "https://localhost:8080/"
        },
        "outputId": "c3bb0357-7a46-4c18-8f8c-62423b0cfa40"
      },
      "source": [
        "df.printSchema()"
      ],
      "execution_count": 16,
      "outputs": [
        {
          "output_type": "stream",
          "name": "stdout",
          "text": [
            "root\n",
            " |-- overall: float (nullable = true)\n",
            " |-- reviewText: string (nullable = true)\n",
            " |-- reviewerName: string (nullable = true)\n",
            " |-- summary: string (nullable = true)\n",
            " |-- verified: boolean (nullable = true)\n",
            " |-- vote: float (nullable = true)\n",
            " |-- categories: string (nullable = false)\n",
            "\n"
          ]
        }
      ]
    },
    {
      "cell_type": "code",
      "metadata": {
        "id": "V1CIuA_qqfSj"
      },
      "source": [
        "df = df.dropDuplicates()"
      ],
      "execution_count": 17,
      "outputs": []
    },
    {
      "cell_type": "code",
      "metadata": {
        "id": "14AHFlf3qfUl",
        "colab": {
          "base_uri": "https://localhost:8080/"
        },
        "outputId": "50ac6f3a-b39b-423f-881c-7d998d45d530"
      },
      "source": [
        "df.describe().show()"
      ],
      "execution_count": 18,
      "outputs": [
        {
          "output_type": "stream",
          "name": "stdout",
          "text": [
            "+-------+------------------+--------------------+-------------+----------+------------------+--------------+\n",
            "|summary|           overall|          reviewText| reviewerName|   summary|              vote|    categories|\n",
            "+-------+------------------+--------------------+-------------+----------+------------------+--------------+\n",
            "|  count|          67722108|            67709455|     67717462|  67703543|          11328418|      67722108|\n",
            "|   mean| 4.328317910600184|            Infinity|          NaN|       NaN| 8.487419867451925|          null|\n",
            "| stddev|1.0879490068567435|                 NaN|          NaN|       NaN|23.471578550596945|          null|\n",
            "|    min|               0.0|            \\n\\n\\n\\n|      \u001a Rae \u001a|          |               2.0|AMAZON_FASHION|\n",
            "|    max|               5.0|When I pick up...|~~~~~~~~~~~~~|Quiet Fan|             999.0|   Video_Games|\n",
            "+-------+------------------+--------------------+-------------+----------+------------------+--------------+\n",
            "\n"
          ]
        }
      ]
    },
    {
      "cell_type": "code",
      "metadata": {
        "id": "0DWUlFEKqfZP",
        "colab": {
          "base_uri": "https://localhost:8080/"
        },
        "outputId": "3cb0abcd-6773-4d1f-ea9f-bed2eb8aeaf3"
      },
      "source": [
        "df.select(\"categories\").distinct().show()"
      ],
      "execution_count": 19,
      "outputs": [
        {
          "output_type": "stream",
          "name": "stdout",
          "text": [
            "+--------------------+\n",
            "|          categories|\n",
            "+--------------------+\n",
            "|            Software|\n",
            "|         Video_Games|\n",
            "|        Prime_Pantry|\n",
            "|Magazine_Subscrip...|\n",
            "|       Luxury_Beauty|\n",
            "|Industrial_and_Sc...|\n",
            "|          Gift_Cards|\n",
            "|Arts_Crafts_and_S...|\n",
            "|          Appliances|\n",
            "|          All_Beauty|\n",
            "|      AMAZON_FASHION|\n",
            "|       Digital_Music|\n",
            "|Cell_Phones_and_A...|\n",
            "|          Automotive|\n",
            "|Grocery_and_Gourm...|\n",
            "| Musical_Instruments|\n",
            "|Patio_Lawn_and_Ga...|\n",
            "|     Office_Products|\n",
            "|      Toys_and_Games|\n",
            "|Tools_and_Home_Im...|\n",
            "+--------------------+\n",
            "only showing top 20 rows\n",
            "\n"
          ]
        }
      ]
    },
    {
      "cell_type": "code",
      "metadata": {
        "id": "LWGu6CXhEKJz"
      },
      "source": [
        "#since this is a nlp project, entries with reviewText and summary that are missing is not valuable to us, drop them\n",
        "df = df.dropna(subset=['reviewText', 'summary'])"
      ],
      "execution_count": 21,
      "outputs": []
    },
    {
      "cell_type": "markdown",
      "metadata": {
        "id": "r773VMq9O6ag"
      },
      "source": [
        "#Save Data"
      ]
    },
    {
      "cell_type": "code",
      "metadata": {
        "id": "DNUhsRg7OnUd"
      },
      "source": [
        "df.write.format('csv').option(\"header\", \"true\").save(\"drive/MyDrive/Colab_Notebooks/Amazon_reviews/cleaned_data_2\")\n"
      ],
      "execution_count": 22,
      "outputs": []
    },
    {
      "cell_type": "code",
      "metadata": {
        "id": "g0Tq7G3pO9de"
      },
      "source": [
        ""
      ],
      "execution_count": null,
      "outputs": []
    },
    {
      "cell_type": "code",
      "metadata": {
        "id": "8r3aPZEcO9fs"
      },
      "source": [
        ""
      ],
      "execution_count": null,
      "outputs": []
    },
    {
      "cell_type": "code",
      "metadata": {
        "id": "RYne1ZXkO9lO"
      },
      "source": [
        ""
      ],
      "execution_count": null,
      "outputs": []
    },
    {
      "cell_type": "code",
      "metadata": {
        "id": "GFCdY4AnoESb"
      },
      "source": [
        "#sc.stop()"
      ],
      "execution_count": null,
      "outputs": []
    }
  ]
}